{
 "cells": [
  {
   "cell_type": "markdown",
   "id": "6c7e849a",
   "metadata": {
    "ExecuteTime": {
     "end_time": "2021-06-11T09:24:53.643384Z",
     "start_time": "2021-06-11T09:24:53.622385Z"
    }
   },
   "source": [
    "# Classification Predict Student Solution\n",
    "\n",
    "© Explore Data Science Academy\n",
    "\n",
    "---\n",
    "### Honour Code\n",
    "\n",
    "I {MASHAKO JUSTICE MANYELO}, confirm - by submitting this document - that the solutions in this notebook are a result of my own work and that I abide by the [EDSA honour code](https://drive.google.com/file/d/1QDCjGZJ8-FmJE3bZdIQNwnJyQKPhHZBn/view?usp=sharing).\n",
    "\n",
    "Non-compliance with the honour code constitutes a material breach of contract.\n",
    "\n",
    "# Predict Overview: Climate Change Sentiment Analysis\n",
    "\n",
    "## Project Overview\n",
    "\n"
   ]
  },
  {
   "cell_type": "markdown",
   "id": "05600c92",
   "metadata": {},
   "source": [
    "# Table of Contents\n",
    "\n",
    "1. [Project Overview](#project-overview)\n",
    "2. [Step 1: Import Necessary Libraries](#step-1-import-necessary-libraries)\n",
    "3. [Step 2: Load the Dataset](#step-2-load-the-dataset)\n",
    "4. [Step 3: Explore the Dataset](#step-3-explore-the-dataset)\n",
    "5. [Step 4: Preprocess the Text Data](#step-4-preprocess-the-text-data)\n",
    "6. [Step 5: Split the Dataset into Training and Testing Sets](#step-5-split-the-dataset-into-training-and-testing-sets)\n",
    "7. [Step 6: Build a Basic Classification Model](#step-6-build-a-basic-classification-model)\n",
    "8. [Step 7: Evaluate the Model on the Test Set](#step-7-evaluate-the-model-on-the-test-set)\n",
    "9. [Step 8: Cross-Validation for Model Evaluation](#step-8-cross-validation-for-model-evaluation)\n",
    "10. [Step 9: Predict Sentiments for the Provided Test Dataset](#step-9-predict-sentiments-for-the-provided-test-dataset)\n",
    "11. [Step 10: Prepare the Submission File](#step-10-prepare-the-submission-file)"
   ]
  },
  {
   "cell_type": "markdown",
   "id": "997462e2",
   "metadata": {},
   "source": [
    " <a id=\"one\"></a>\n",
    "## 1. Importing Packages\n",
    "<a href=#cont>Back to Table of Contents</a>\n",
    "\n",
    "---\n",
    "    \n",
    "| Description: Importing Packages |\n",
    "| :--------------------------- |\n",
    "| In this section you are required to import, and briefly discuss, the libraries that will be used throughout your analysis and modelling. |\n",
    "\n",
    "---"
   ]
  },
  {
   "cell_type": "code",
   "execution_count": 20,
   "id": "475dbe93",
   "metadata": {
    "ExecuteTime": {
     "end_time": "2021-06-23T10:30:53.800892Z",
     "start_time": "2021-06-23T10:30:50.215449Z"
    }
   },
   "outputs": [],
   "source": [
    "import pandas as pd\n",
    "import numpy as np\n",
    "import matplotlib.pyplot as plt\n",
    "import string\n",
    "import nltk\n",
    "import time\n",
    "%matplotlib inline\n",
    "from matplotlib.colors import ListedColormap\n",
    "import seaborn as sns\n",
    "import re\n",
    "from nltk.corpus import stopwords\n",
    "\n",
    "from sklearn.feature_extraction.text import CountVectorizer\n",
    "\n",
    "from sklearn.model_selection import cross_val_score\n",
    "from sklearn.model_selection import train_test_split\n",
    "from sklearn import metrics\n",
    "\n",
    "from sklearn.preprocessing import StandardScaler\n",
    "from sklearn.datasets import make_moons, make_circles, make_classification\n",
    "\n",
    "from sklearn.linear_model import LogisticRegression\n",
    "from sklearn.neighbors import KNeighborsClassifier\n",
    "from sklearn.svm import SVC\n",
    "from sklearn.discriminant_analysis import LinearDiscriminantAnalysis\n",
    "from sklearn.discriminant_analysis import QuadraticDiscriminantAnalysis\n",
    "from sklearn.tree import DecisionTreeClassifier\n",
    "from sklearn.ensemble import RandomForestClassifier, AdaBoostClassifier\n",
    "from nltk.tokenize import word_tokenize, TreebankWordTokenizer\n",
    "from nltk.stem import WordNetLemmatizer\n",
    "from sklearn.pipeline import Pipeline\n",
    "from sklearn.feature_extraction.text import CountVectorizer, TfidfTransformer\n",
    "from sklearn.naive_bayes import MultinomialNB\n",
    "from sklearn.metrics import classification_report, f1_score, confusion_matrix, accuracy_score\n",
    "from sklearn.model_selection import train_test_split\n",
    "from sklearn.metrics import accuracy_score, precision_score, recall_score, f1_score, confusion_matrix, classification_report\n",
    "from sklearn.metrics import ConfusionMatrixDisplay\n",
    "from comet_ml import Experiment\n",
    "from comet_ml.integration.sklearn import log_model\n",
    "from comet_ml import Experiment\n",
    "from sklearn.metrics import confusion_matrix, classification_report\n",
    "from nltk.stem import PorterStemmer\n",
    "from imblearn.over_sampling import RandomOverSampler\n",
    "from imblearn.under_sampling import RandomUnderSampler\n",
    "from sklearn.feature_extraction.text import TfidfVectorizer\n"
   ]
  },
  {
   "cell_type": "markdown",
   "id": "f22a6718",
   "metadata": {},
   "source": [
    "<a id=\"two\"></a>\n",
    "## Step 2: Load the Dataset\n",
    "<a class=\"anchor\" id=\"1.1\"></a>\n",
    "<a href=#cont>Back to Table of Contents</a>\n",
    "\n",
    "---\n",
    "    \n",
    "| Description: Loading the data |\n",
    "| :--------------------------- |\n",
    "| Replace 'your_dataset.csv' with the actual file path or URL. |\n",
    "\n",
    "---"
   ]
  },
  {
   "cell_type": "code",
   "execution_count": 3,
   "id": "fbbb6c18",
   "metadata": {
    "ExecuteTime": {
     "end_time": "2021-06-28T08:49:35.311495Z",
     "start_time": "2021-06-28T08:49:35.295494Z"
    }
   },
   "outputs": [],
   "source": [
    "# Load training data\n",
    "train_data = pd.read_csv(\"https://raw.githubusercontent.com/MashakoJustice/South_African_Languege_Classification/main/train_set.csv\")\n",
    "\n",
    "# Load test data without labels\n",
    "test_data = pd.read_csv(\"https://raw.githubusercontent.com/MashakoJustice/South_African_Languege_Classification/main/test_set.csv\")"
   ]
  },
  {
   "cell_type": "markdown",
   "id": "81132ab3",
   "metadata": {},
   "source": [
    "<a id=\"three\"></a>\n",
    "## Step 3: Explore the Dataset\n",
    "<a class=\"anchor\" id=\"1.1\"></a>\n",
    "<a href=#cont>Back to Table of Contents</a>\n",
    "\n",
    "---\n",
    "    \n",
    "| Description: Exploratory data analysis |\n",
    "| :--------------------------- |\n",
    "| Display basic information about the dataset. |\n",
    "\n",
    "---\n"
   ]
  },
  {
   "cell_type": "code",
   "execution_count": 4,
   "id": "e805134e",
   "metadata": {
    "ExecuteTime": {
     "end_time": "2021-06-28T08:52:37.824204Z",
     "start_time": "2021-06-28T08:52:37.811206Z"
    }
   },
   "outputs": [
    {
     "data": {
      "text/html": [
       "<div>\n",
       "<style scoped>\n",
       "    .dataframe tbody tr th:only-of-type {\n",
       "        vertical-align: middle;\n",
       "    }\n",
       "\n",
       "    .dataframe tbody tr th {\n",
       "        vertical-align: top;\n",
       "    }\n",
       "\n",
       "    .dataframe thead th {\n",
       "        text-align: right;\n",
       "    }\n",
       "</style>\n",
       "<table border=\"1\" class=\"dataframe\">\n",
       "  <thead>\n",
       "    <tr style=\"text-align: right;\">\n",
       "      <th></th>\n",
       "      <th>lang_id</th>\n",
       "      <th>text</th>\n",
       "    </tr>\n",
       "  </thead>\n",
       "  <tbody>\n",
       "    <tr>\n",
       "      <th>0</th>\n",
       "      <td>xho</td>\n",
       "      <td>umgaqo-siseko wenza amalungiselelo kumaziko ax...</td>\n",
       "    </tr>\n",
       "    <tr>\n",
       "      <th>1</th>\n",
       "      <td>xho</td>\n",
       "      <td>i-dha iya kuba nobulumko bokubeka umsebenzi na...</td>\n",
       "    </tr>\n",
       "    <tr>\n",
       "      <th>2</th>\n",
       "      <td>eng</td>\n",
       "      <td>the province of kwazulu-natal department of tr...</td>\n",
       "    </tr>\n",
       "    <tr>\n",
       "      <th>3</th>\n",
       "      <td>nso</td>\n",
       "      <td>o netefatša gore o ba file dilo ka moka tše le...</td>\n",
       "    </tr>\n",
       "    <tr>\n",
       "      <th>4</th>\n",
       "      <td>ven</td>\n",
       "      <td>khomishini ya ndinganyiso ya mbeu yo ewa maana...</td>\n",
       "    </tr>\n",
       "  </tbody>\n",
       "</table>\n",
       "</div>"
      ],
      "text/plain": [
       "  lang_id                                               text\n",
       "0     xho  umgaqo-siseko wenza amalungiselelo kumaziko ax...\n",
       "1     xho  i-dha iya kuba nobulumko bokubeka umsebenzi na...\n",
       "2     eng  the province of kwazulu-natal department of tr...\n",
       "3     nso  o netefatša gore o ba file dilo ka moka tše le...\n",
       "4     ven  khomishini ya ndinganyiso ya mbeu yo ewa maana..."
      ]
     },
     "execution_count": 4,
     "metadata": {},
     "output_type": "execute_result"
    }
   ],
   "source": [
    "# Display the first few rows of the training data\n",
    "train_data.head()\n"
   ]
  },
  {
   "cell_type": "code",
   "execution_count": 5,
   "id": "2fb74182",
   "metadata": {},
   "outputs": [
    {
     "data": {
      "text/plain": [
       "Index(['lang_id', 'text'], dtype='object')"
      ]
     },
     "execution_count": 5,
     "metadata": {},
     "output_type": "execute_result"
    }
   ],
   "source": [
    "\n",
    "# Check the columns present in the training data\n",
    "train_data.columns\n"
   ]
  },
  {
   "cell_type": "code",
   "execution_count": 6,
   "id": "6dd6ee8c",
   "metadata": {},
   "outputs": [
    {
     "data": {
      "text/plain": [
       "lang_id    object\n",
       "text       object\n",
       "dtype: object"
      ]
     },
     "execution_count": 6,
     "metadata": {},
     "output_type": "execute_result"
    }
   ],
   "source": [
    "\n",
    "# Check the data types of each column\n",
    "train_data.dtypes\n"
   ]
  },
  {
   "cell_type": "code",
   "execution_count": 7,
   "metadata": {},
   "outputs": [
    {
     "data": {
      "text/plain": [
       "lang_id    0\n",
       "text       0\n",
       "dtype: int64"
      ]
     },
     "execution_count": 7,
     "metadata": {},
     "output_type": "execute_result"
    }
   ],
   "source": [
    "\n",
    "# Check for missing values in the training data\n",
    "train_data.isnull().sum()\n",
    "\n"
   ]
  },
  {
   "cell_type": "code",
   "execution_count": 8,
   "metadata": {},
   "outputs": [
    {
     "data": {
      "text/html": [
       "<div>\n",
       "<style scoped>\n",
       "    .dataframe tbody tr th:only-of-type {\n",
       "        vertical-align: middle;\n",
       "    }\n",
       "\n",
       "    .dataframe tbody tr th {\n",
       "        vertical-align: top;\n",
       "    }\n",
       "\n",
       "    .dataframe thead th {\n",
       "        text-align: right;\n",
       "    }\n",
       "</style>\n",
       "<table border=\"1\" class=\"dataframe\">\n",
       "  <thead>\n",
       "    <tr style=\"text-align: right;\">\n",
       "      <th></th>\n",
       "      <th>lang_id</th>\n",
       "      <th>text</th>\n",
       "    </tr>\n",
       "  </thead>\n",
       "  <tbody>\n",
       "    <tr>\n",
       "      <th>count</th>\n",
       "      <td>33000</td>\n",
       "      <td>33000</td>\n",
       "    </tr>\n",
       "    <tr>\n",
       "      <th>unique</th>\n",
       "      <td>11</td>\n",
       "      <td>29948</td>\n",
       "    </tr>\n",
       "    <tr>\n",
       "      <th>top</th>\n",
       "      <td>xho</td>\n",
       "      <td>ngokwesekhtjheni yomthetho ophathelene nalokhu...</td>\n",
       "    </tr>\n",
       "    <tr>\n",
       "      <th>freq</th>\n",
       "      <td>3000</td>\n",
       "      <td>17</td>\n",
       "    </tr>\n",
       "  </tbody>\n",
       "</table>\n",
       "</div>"
      ],
      "text/plain": [
       "       lang_id                                               text\n",
       "count    33000                                              33000\n",
       "unique      11                                              29948\n",
       "top        xho  ngokwesekhtjheni yomthetho ophathelene nalokhu...\n",
       "freq      3000                                                 17"
      ]
     },
     "execution_count": 8,
     "metadata": {},
     "output_type": "execute_result"
    }
   ],
   "source": [
    "\n",
    "# Summary statistics for numerical columns\n",
    "train_data.describe()\n"
   ]
  },
  {
   "cell_type": "code",
   "execution_count": 9,
   "id": "de51df85",
   "metadata": {},
   "outputs": [
    {
     "data": {
      "text/plain": [
       "lang_id       11\n",
       "text       29948\n",
       "dtype: int64"
      ]
     },
     "execution_count": 9,
     "metadata": {},
     "output_type": "execute_result"
    }
   ],
   "source": [
    "\n",
    "# Count of unique values in each column\n",
    "train_data.nunique()\n"
   ]
  },
  {
   "cell_type": "code",
   "execution_count": 10,
   "metadata": {},
   "outputs": [
    {
     "data": {
      "text/plain": [
       "lang_id\n",
       "xho    3000\n",
       "eng    3000\n",
       "nso    3000\n",
       "ven    3000\n",
       "tsn    3000\n",
       "nbl    3000\n",
       "zul    3000\n",
       "ssw    3000\n",
       "tso    3000\n",
       "sot    3000\n",
       "afr    3000\n",
       "Name: count, dtype: int64"
      ]
     },
     "execution_count": 10,
     "metadata": {},
     "output_type": "execute_result"
    }
   ],
   "source": [
    "\n",
    "# Count of samples for each language\n",
    "train_data['lang_id'].value_counts()\n"
   ]
  },
  {
   "cell_type": "code",
   "execution_count": 11,
   "metadata": {},
   "outputs": [
    {
     "data": {
      "image/png": "[encoded data removed]",
      "text/plain": [
       "<Figure size 640x480 with 1 Axes>"
      ]
     },
     "metadata": {},
     "output_type": "display_data"
    }
   ],
   "source": [
    "\n",
    "sns.countplot(x='lang_id', data=train_data)\n",
    "plt.title('Distribution of Languages')\n",
    "plt.show()\n"
   ]
  },
  {
   "cell_type": "code",
   "execution_count": 12,
   "metadata": {},
   "outputs": [
    {
     "data": {
      "text/html": [
       "<div>\n",
       "<style scoped>\n",
       "    .dataframe tbody tr th:only-of-type {\n",
       "        vertical-align: middle;\n",
       "    }\n",
       "\n",
       "    .dataframe tbody tr th {\n",
       "        vertical-align: top;\n",
       "    }\n",
       "\n",
       "    .dataframe thead th {\n",
       "        text-align: right;\n",
       "    }\n",
       "</style>\n",
       "<table border=\"1\" class=\"dataframe\">\n",
       "  <thead>\n",
       "    <tr style=\"text-align: right;\">\n",
       "      <th></th>\n",
       "      <th>index</th>\n",
       "      <th>text</th>\n",
       "    </tr>\n",
       "  </thead>\n",
       "  <tbody>\n",
       "    <tr>\n",
       "      <th>0</th>\n",
       "      <td>1</td>\n",
       "      <td>Mmasepala, fa maemo a a kgethegileng a letlele...</td>\n",
       "    </tr>\n",
       "    <tr>\n",
       "      <th>1</th>\n",
       "      <td>2</td>\n",
       "      <td>Uzakwaziswa ngokufaneleko nakungafuneka eminye...</td>\n",
       "    </tr>\n",
       "    <tr>\n",
       "      <th>2</th>\n",
       "      <td>3</td>\n",
       "      <td>Tshivhumbeo tshi fana na ngano dza vhathu.</td>\n",
       "    </tr>\n",
       "    <tr>\n",
       "      <th>3</th>\n",
       "      <td>4</td>\n",
       "      <td>Kube inja nelikati betingevakala kutsi titsini...</td>\n",
       "    </tr>\n",
       "    <tr>\n",
       "      <th>4</th>\n",
       "      <td>5</td>\n",
       "      <td>Winste op buitelandse valuta.</td>\n",
       "    </tr>\n",
       "  </tbody>\n",
       "</table>\n",
       "</div>"
      ],
      "text/plain": [
       "   index                                               text\n",
       "0      1  Mmasepala, fa maemo a a kgethegileng a letlele...\n",
       "1      2  Uzakwaziswa ngokufaneleko nakungafuneka eminye...\n",
       "2      3         Tshivhumbeo tshi fana na ngano dza vhathu.\n",
       "3      4  Kube inja nelikati betingevakala kutsi titsini...\n",
       "4      5                      Winste op buitelandse valuta."
      ]
     },
     "execution_count": 12,
     "metadata": {},
     "output_type": "execute_result"
    }
   ],
   "source": [
    "# Display the first few rows of the test data\n",
    "test_data.head()\n",
    "\n"
   ]
  },
  {
   "cell_type": "code",
   "execution_count": 13,
   "metadata": {},
   "outputs": [
    {
     "data": {
      "text/plain": [
       "Index(['index', 'text'], dtype='object')"
      ]
     },
     "execution_count": 13,
     "metadata": {},
     "output_type": "execute_result"
    }
   ],
   "source": [
    "\n",
    "# Check the columns present in the test data\n",
    "test_data.columns\n"
   ]
  },
  {
   "cell_type": "code",
   "execution_count": 14,
   "metadata": {},
   "outputs": [
    {
     "data": {
      "text/plain": [
       "index     int64\n",
       "text     object\n",
       "dtype: object"
      ]
     },
     "execution_count": 14,
     "metadata": {},
     "output_type": "execute_result"
    }
   ],
   "source": [
    "\n",
    "# Check the data types of each column\n",
    "test_data.dtypes\n"
   ]
  },
  {
   "cell_type": "code",
   "execution_count": 15,
   "metadata": {},
   "outputs": [
    {
     "data": {
      "text/plain": [
       "index    0\n",
       "text     0\n",
       "dtype: int64"
      ]
     },
     "execution_count": 15,
     "metadata": {},
     "output_type": "execute_result"
    }
   ],
   "source": [
    "\n",
    "# Check for missing values in the test data\n",
    "test_data.isnull().sum()\n"
   ]
  },
  {
   "cell_type": "code",
   "execution_count": 16,
   "metadata": {},
   "outputs": [
    {
     "data": {
      "text/html": [
       "<div>\n",
       "<style scoped>\n",
       "    .dataframe tbody tr th:only-of-type {\n",
       "        vertical-align: middle;\n",
       "    }\n",
       "\n",
       "    .dataframe tbody tr th {\n",
       "        vertical-align: top;\n",
       "    }\n",
       "\n",
       "    .dataframe thead th {\n",
       "        text-align: right;\n",
       "    }\n",
       "</style>\n",
       "<table border=\"1\" class=\"dataframe\">\n",
       "  <thead>\n",
       "    <tr style=\"text-align: right;\">\n",
       "      <th></th>\n",
       "      <th>index</th>\n",
       "    </tr>\n",
       "  </thead>\n",
       "  <tbody>\n",
       "    <tr>\n",
       "      <th>count</th>\n",
       "      <td>5682.000000</td>\n",
       "    </tr>\n",
       "    <tr>\n",
       "      <th>mean</th>\n",
       "      <td>2841.500000</td>\n",
       "    </tr>\n",
       "    <tr>\n",
       "      <th>std</th>\n",
       "      <td>1640.396446</td>\n",
       "    </tr>\n",
       "    <tr>\n",
       "      <th>min</th>\n",
       "      <td>1.000000</td>\n",
       "    </tr>\n",
       "    <tr>\n",
       "      <th>25%</th>\n",
       "      <td>1421.250000</td>\n",
       "    </tr>\n",
       "    <tr>\n",
       "      <th>50%</th>\n",
       "      <td>2841.500000</td>\n",
       "    </tr>\n",
       "    <tr>\n",
       "      <th>75%</th>\n",
       "      <td>4261.750000</td>\n",
       "    </tr>\n",
       "    <tr>\n",
       "      <th>max</th>\n",
       "      <td>5682.000000</td>\n",
       "    </tr>\n",
       "  </tbody>\n",
       "</table>\n",
       "</div>"
      ],
      "text/plain": [
       "             index\n",
       "count  5682.000000\n",
       "mean   2841.500000\n",
       "std    1640.396446\n",
       "min       1.000000\n",
       "25%    1421.250000\n",
       "50%    2841.500000\n",
       "75%    4261.750000\n",
       "max    5682.000000"
      ]
     },
     "execution_count": 16,
     "metadata": {},
     "output_type": "execute_result"
    }
   ],
   "source": [
    "\n",
    "# Summary statistics for numerical columns (if any)\n",
    "test_data.describe()\n"
   ]
  },
  {
   "cell_type": "code",
   "execution_count": 17,
   "metadata": {},
   "outputs": [
    {
     "data": {
      "text/plain": [
       "index    5682\n",
       "text     5459\n",
       "dtype: int64"
      ]
     },
     "execution_count": 17,
     "metadata": {},
     "output_type": "execute_result"
    }
   ],
   "source": [
    "\n",
    "# Count of unique values in each column\n",
    "test_data.nunique()\n"
   ]
  },
  {
   "cell_type": "markdown",
   "id": "3fa93ec6",
   "metadata": {},
   "source": [
    "<a id=\"four\"></a>\n",
    "## Step 4: Preprocess the Text Data\n",
    "<a class=\"anchor\" id=\"1.1\"></a>\n",
    "<a href=#cont>Back to Table of Contents</a>\n",
    "\n",
    "---\n",
    "    \n",
    "| Description: Data engineering |\n",
    "| :--------------------------- |\n",
    "| Perform text cleaning, handling missing values, etc... |\n",
    "\n",
    "---"
   ]
  },
  {
   "cell_type": "code",
   "execution_count": null,
   "id": "059c2f3e",
   "metadata": {},
   "outputs": [],
   "source": [
    "\n"
   ]
  },
  {
   "cell_type": "code",
   "execution_count": null,
   "id": "84eea17b",
   "metadata": {},
   "outputs": [],
   "source": []
  },
  {
   "cell_type": "code",
   "execution_count": null,
   "id": "59692724",
   "metadata": {},
   "outputs": [],
   "source": []
  },
  {
   "cell_type": "markdown",
   "id": "43b2d523",
   "metadata": {},
   "source": [
    "<a id=\"five\"></a>\n",
    "## Step 5: Split the Dataset into Training and Testing Sets\n",
    "<a class=\"anchor\" id=\"1.1\"></a>\n",
    "<a href=#cont>Back to Table of Contents</a>\n",
    "\n",
    "---\n",
    "    \n",
    "| Description: Modelling |\n",
    "| :--------------------------- |\n",
    "| In this step, we divide our dataset into two subsets: a training set and a testing set. |\n",
    "\n",
    "---"
   ]
  },
  {
   "cell_type": "code",
   "execution_count": 30,
   "id": "2344b3e0",
   "metadata": {},
   "outputs": [
    {
     "name": "stdout",
     "output_type": "stream",
     "text": [
      "X_train shape: (29700,)\n",
      "X_test shape: (3300,)\n",
      "y_train shape: (29700,)\n",
      "y_test shape: (3300,)\n"
     ]
    }
   ],
   "source": [
    "# Assuming train_data is your DataFrame and you have features (X) and target variable (y)\n",
    "# Replace 'features' and 'lang_id' with the actual columns in your dataset\n",
    "X = train_data['text']\n",
    "y = train_data['lang_id']\n",
    "\n",
    "# Split the dataset into 80% training and 20% testing\n",
    "X_train, X_test, y_train, y_test = train_test_split(X, y, test_size=0.1, random_state=42)\n",
    "\n",
    "# Display the shapes of the resulting sets\n",
    "print(\"X_train shape:\", X_train.shape)\n",
    "print(\"X_test shape:\", X_test.shape)\n",
    "print(\"y_train shape:\", y_train.shape)\n",
    "print(\"y_test shape:\", y_test.shape)"
   ]
  },
  {
   "cell_type": "code",
   "execution_count": null,
   "id": "9c58df02",
   "metadata": {},
   "outputs": [],
   "source": []
  },
  {
   "cell_type": "markdown",
   "id": "6b530251",
   "metadata": {},
   "source": [
    "<a id=\"six\"></a>\n",
    "## Step 6: Build a Basic Classification Model\n",
    "<a class=\"anchor\" id=\"1.1\"></a>\n",
    "<a href=#cont>Back to Table of Contents</a>\n",
    "\n",
    "---\n",
    "    \n",
    "| Description: Model performance |\n",
    "| :--------------------------- |\n",
    "| Start with a simple model. We will add more as we go. |\n",
    "\n",
    "---"
   ]
  },
  {
   "cell_type": "code",
   "execution_count": 32,
   "id": "6a69b5a1",
   "metadata": {},
   "outputs": [
    {
     "name": "stdout",
     "output_type": "stream",
     "text": [
      "Training and tuning hyperparameters for Naive Bayes...\n",
      "Best Hyperparameters for Naive Bayes: {'clf__alpha': 0.1}\n",
      "Accuracy for Naive Bayes: 0.9994\n",
      "\n",
      "Training and tuning hyperparameters for Logistic Regression...\n",
      "Best Hyperparameters for Logistic Regression: {'clf__C': 10, 'clf__multi_class': 'multinomial', 'clf__solver': 'saga'}\n",
      "Accuracy for Logistic Regression: 0.9967\n",
      "\n",
      "Naive Bayes Accuracy: 0.9993939393939394\n",
      "Best Hyperparameters: {'clf__alpha': 0.1}\n",
      "==================================================\n",
      "Logistic Regression Accuracy: 0.9966666666666667\n",
      "Best Hyperparameters: {'clf__C': 10, 'clf__multi_class': 'multinomial', 'clf__solver': 'saga'}\n",
      "==================================================\n"
     ]
    }
   ],
   "source": [
    "# Import GridSearchCV\n",
    "from sklearn.model_selection import GridSearchCV\n",
    "\n",
    "# Create pipelines with placeholder parameters for hyperparameter tuning\n",
    "nb_pipeline = Pipeline([('tfidf', TfidfVectorizer()), ('clf', MultinomialNB())])\n",
    "lr_pipeline = Pipeline([('tfidf', TfidfVectorizer()), ('clf', LogisticRegression())])\n",
    "\n",
    "# Create parameter grids for hyperparameter tuning\n",
    "param_grid_nb = {\n",
    "    'clf__alpha': [0.1, 0.5, 1.0, 2.0]\n",
    "}\n",
    "\n",
    "param_grid_lr = {\n",
    "    'clf__C': [0.1, 1, 10],\n",
    "    'clf__multi_class': ['ovr', 'multinomial'],\n",
    "    'clf__solver': ['saga']\n",
    "}\n",
    "\n",
    "# Create dictionaries for classifiers and their corresponding parameter grids\n",
    "classifiers = {\n",
    "    'Naive Bayes': (nb_pipeline, param_grid_nb),\n",
    "    'Logistic Regression': (lr_pipeline, param_grid_lr)\n",
    "}\n",
    "\n",
    "results = []\n",
    "\n",
    "for clf_name, (clf, param_grid) in classifiers.items():\n",
    "    print(f\"Training and tuning hyperparameters for {clf_name}...\")\n",
    "    \n",
    "    # Create the GridSearchCV object\n",
    "    grid_search = GridSearchCV(estimator=clf, param_grid=param_grid, cv=5, scoring='accuracy', n_jobs=-1)\n",
    "\n",
    "    # Perform the grid search\n",
    "    grid_search.fit(X_train, y_train)\n",
    "\n",
    "    # Get the best hyperparameters and model\n",
    "    best_params = grid_search.best_params_\n",
    "    best_model = grid_search.best_estimator_\n",
    "\n",
    "    # Print the best hyperparameters\n",
    "    print(f\"Best Hyperparameters for {clf_name}: {best_params}\")\n",
    "\n",
    "    # Fit the best model on the entire training set\n",
    "    best_model.fit(X_train, y_train)\n",
    "\n",
    "    # Make predictions on the test set\n",
    "    y_pred = best_model.predict(X_test)\n",
    "\n",
    "    # Calculate accuracy\n",
    "    accuracy = accuracy_score(y_test, y_pred)\n",
    "    print(f\"Accuracy for {clf_name}: {accuracy:.4f}\\n\")\n",
    "\n",
    "    # Save the results\n",
    "    results.append([clf_name, accuracy, best_params])\n",
    "\n",
    "# Display the results\n",
    "for result in results:\n",
    "    print(result[0], \"Accuracy:\", result[1])\n",
    "    print(\"Best Hyperparameters:\", result[2])\n",
    "    print(\"=\"*50)\n"
   ]
  },
  {
   "cell_type": "code",
   "execution_count": 33,
   "id": "3874a7c6",
   "metadata": {},
   "outputs": [
    {
     "data": {
      "image/png": "[encoded data removed]",
      "text/plain": [
       "<Figure size 640x480 with 1 Axes>"
      ]
     },
     "metadata": {},
     "output_type": "display_data"
    }
   ],
   "source": [
    "# Extract the classifier names and accuracies from the results\n",
    "classifier_names = [result[0] for result in results]\n",
    "accuracies = [result[1] for result in results]\n",
    "\n",
    "# Plot the bar graph\n",
    "fig, ax = plt.subplots()\n",
    "ax.bar(classifier_names, accuracies, color='green')\n",
    "\n",
    "# Add labels and title\n",
    "ax.set_ylabel('Accuracy')\n",
    "ax.set_title('Classifier Accuracy')\n",
    "\n",
    "# Display the accuracy values on top of the bars\n",
    "for i, v in enumerate(accuracies):\n",
    "    ax.text(i, v + 0.01, f'{v:.4f}', ha='center', va='bottom')\n",
    "\n",
    "# Show the plot\n",
    "plt.show()"
   ]
  },
  {
   "cell_type": "markdown",
   "id": "a8ad0c0d",
   "metadata": {},
   "source": [
    "<a id=\"seven\"></a>\n",
    "## Step 7: Evaluate the Model on the Test Set\n",
    "<a class=\"anchor\" id=\"1.1\"></a>\n",
    "<a href=#cont>Back to Table of Contents</a>\n",
    "\n",
    "---\n",
    "    \n",
    "| Description: Model explanation |\n",
    "| :--------------------------- |\n",
    "| In this section, you are required to discuss how the best performing model works in a simple way. |\n",
    "\n",
    "---"
   ]
  },
  {
   "cell_type": "code",
   "execution_count": 36,
   "id": "5ff741c2",
   "metadata": {},
   "outputs": [
    {
     "name": "stdout",
     "output_type": "stream",
     "text": [
      "Evaluating Naive Bayes on the test set...\n",
      "\n",
      "Naive Bayes Test Set Classification Report:\n",
      "\n",
      "Accuracy: 0.9988\n",
      "\n",
      "              precision    recall  f1-score   support\n",
      "\n",
      "         afr       0.99      1.00      1.00       281\n",
      "         eng       1.00      1.00      1.00       297\n",
      "         nbl       1.00      1.00      1.00       327\n",
      "         nso       1.00      1.00      1.00       322\n",
      "         sot       1.00      1.00      1.00       307\n",
      "         ssw       1.00      1.00      1.00       286\n",
      "         tsn       1.00      1.00      1.00       297\n",
      "         tso       1.00      1.00      1.00       253\n",
      "         ven       1.00      1.00      1.00       322\n",
      "         xho       1.00      1.00      1.00       313\n",
      "         zul       1.00      1.00      1.00       295\n",
      "\n",
      "    accuracy                           1.00      3300\n",
      "   macro avg       1.00      1.00      1.00      3300\n",
      "weighted avg       1.00      1.00      1.00      3300\n",
      "\n",
      "==================================================\n",
      "Evaluating Logistic Regression on the test set...\n"
     ]
    },
    {
     "name": "stderr",
     "output_type": "stream",
     "text": [
      "c:\\Users\\Just-ice\\AppData\\Local\\Programs\\Python\\Python311\\Lib\\site-packages\\sklearn\\linear_model\\_logistic.py:460: ConvergenceWarning: lbfgs failed to converge (status=1):\n",
      "STOP: TOTAL NO. of ITERATIONS REACHED LIMIT.\n",
      "\n",
      "Increase the number of iterations (max_iter) or scale the data as shown in:\n",
      "    https://scikit-learn.org/stable/modules/preprocessing.html\n",
      "Please also refer to the documentation for alternative solver options:\n",
      "    https://scikit-learn.org/stable/modules/linear_model.html#logistic-regression\n",
      "  n_iter_i = _check_optimize_result(\n"
     ]
    },
    {
     "name": "stdout",
     "output_type": "stream",
     "text": [
      "\n",
      "Logistic Regression Test Set Classification Report:\n",
      "\n",
      "Accuracy: 0.9948\n",
      "\n",
      "              precision    recall  f1-score   support\n",
      "\n",
      "         afr       1.00      0.99      1.00       281\n",
      "         eng       1.00      1.00      1.00       297\n",
      "         nbl       0.99      0.99      0.99       327\n",
      "         nso       1.00      0.99      0.99       322\n",
      "         sot       1.00      1.00      1.00       307\n",
      "         ssw       0.98      0.99      0.99       286\n",
      "         tsn       1.00      1.00      1.00       297\n",
      "         tso       1.00      1.00      1.00       253\n",
      "         ven       1.00      1.00      1.00       322\n",
      "         xho       0.99      1.00      0.99       313\n",
      "         zul       0.98      0.99      0.99       295\n",
      "\n",
      "    accuracy                           0.99      3300\n",
      "   macro avg       0.99      0.99      0.99      3300\n",
      "weighted avg       0.99      0.99      0.99      3300\n",
      "\n",
      "==================================================\n",
      "Naive Bayes Test Set Accuracy: 0.9987878787878788\n",
      "              precision    recall  f1-score   support\n",
      "\n",
      "         afr       0.99      1.00      1.00       281\n",
      "         eng       1.00      1.00      1.00       297\n",
      "         nbl       1.00      1.00      1.00       327\n",
      "         nso       1.00      1.00      1.00       322\n",
      "         sot       1.00      1.00      1.00       307\n",
      "         ssw       1.00      1.00      1.00       286\n",
      "         tsn       1.00      1.00      1.00       297\n",
      "         tso       1.00      1.00      1.00       253\n",
      "         ven       1.00      1.00      1.00       322\n",
      "         xho       1.00      1.00      1.00       313\n",
      "         zul       1.00      1.00      1.00       295\n",
      "\n",
      "    accuracy                           1.00      3300\n",
      "   macro avg       1.00      1.00      1.00      3300\n",
      "weighted avg       1.00      1.00      1.00      3300\n",
      "\n",
      "==================================================\n",
      "Logistic Regression Test Set Accuracy: 0.9948484848484849\n",
      "              precision    recall  f1-score   support\n",
      "\n",
      "         afr       1.00      0.99      1.00       281\n",
      "         eng       1.00      1.00      1.00       297\n",
      "         nbl       0.99      0.99      0.99       327\n",
      "         nso       1.00      0.99      0.99       322\n",
      "         sot       1.00      1.00      1.00       307\n",
      "         ssw       0.98      0.99      0.99       286\n",
      "         tsn       1.00      1.00      1.00       297\n",
      "         tso       1.00      1.00      1.00       253\n",
      "         ven       1.00      1.00      1.00       322\n",
      "         xho       0.99      1.00      0.99       313\n",
      "         zul       0.98      0.99      0.99       295\n",
      "\n",
      "    accuracy                           0.99      3300\n",
      "   macro avg       0.99      0.99      0.99      3300\n",
      "weighted avg       0.99      0.99      0.99      3300\n",
      "\n",
      "==================================================\n"
     ]
    }
   ],
   "source": [
    "# Evaluate the models on the test set\n",
    "test_results = []\n",
    "test_confusion_matrices = {}\n",
    "test_class_reports = {}\n",
    "\n",
    "for clf_name, (clf, _) in classifiers.items():\n",
    "    print(f\"Evaluating {clf_name} on the test set...\")\n",
    "\n",
    "    # Fit the entire pipeline on the training data\n",
    "    clf.fit(X_train, y_train)\n",
    "\n",
    "    # Make predictions on the test set\n",
    "    y_test_pred = clf.predict(X_test)\n",
    "    accuracy_test = accuracy_score(y_test, y_test_pred)\n",
    "    report_test = classification_report(y_test, y_test_pred)\n",
    "    confusion_mat_test = confusion_matrix(y_test, y_test_pred)\n",
    "\n",
    "    print(f\"\\n{clf_name} Test Set Classification Report:\\n\")\n",
    "    print(f\"Accuracy: {accuracy_test:.4f}\\n\")\n",
    "    print(report_test)\n",
    "    print(\"=\"*50)\n",
    "\n",
    "    # Save the results to dictionaries\n",
    "    test_confusion_matrices[clf_name] = confusion_mat_test\n",
    "    test_class_reports[clf_name] = report_test\n",
    "\n",
    "    test_results.append([clf_name, accuracy_test, report_test])\n",
    "\n",
    "# Display the results in the specified format\n",
    "for result in test_results:\n",
    "    print(result[0], \"Test Set Accuracy:\", result[1])\n",
    "    print(result[2])\n",
    "    print(\"=\"*50)\n"
   ]
  },
  {
   "cell_type": "markdown",
   "metadata": {},
   "source": [
    "<a id=\"seven\"></a>\n",
    "## Step 8: Cross-Validation for Model Evaluation\n",
    "<a class=\"anchor\" id=\"1.1\"></a>\n",
    "<a href=#cont>Back to Table of Contents</a>\n",
    "\n",
    "---\n",
    "    \n",
    "| Description: Model explanation |\n",
    "| :--------------------------- |\n",
    "| Ensure the model's robustness. |\n",
    "\n",
    "---"
   ]
  },
  {
   "cell_type": "markdown",
   "metadata": {},
   "source": []
  },
  {
   "cell_type": "code",
   "execution_count": 39,
   "metadata": {},
   "outputs": [],
   "source": [
    "# from sklearn.model_selection import cross_val_score, StratifiedKFold\n",
    "# import numpy as np\n",
    "\n",
    "# # Define the number of folds\n",
    "# num_folds = 5\n",
    "\n",
    "# # Perform cross-validation for each classifier\n",
    "# cv_results = []\n",
    "# cv_confusion_matrices = {}\n",
    "# cv_class_reports = {}\n",
    "\n",
    "# for clf_name, (clf, _) in classifiers.items():\n",
    "#     print(f\"Performing cross-validation for {clf_name}...\")\n",
    "    \n",
    "#     # Create a StratifiedKFold object for better class distribution in each fold\n",
    "#     skf = StratifiedKFold(n_splits=num_folds, shuffle=True, random_state=42)\n",
    "    \n",
    "#     # Perform cross-validation\n",
    "#     cv_scores = cross_val_score(clf, X, y, cv=skf, scoring='accuracy')\n",
    "    \n",
    "#     print(f\"{clf_name} Cross-Validation Scores: {cv_scores}\")\n",
    "#     print(f\"Mean Accuracy: {np.mean(cv_scores):.4f}\\n\")\n",
    "    \n",
    "#     # Save the results to dictionaries\n",
    "#     cv_results.append([clf_name, np.mean(cv_scores)])\n",
    "\n",
    "# # Display the cross-validation results\n",
    "# cv_results_df = pd.DataFrame(cv_results, columns=['Classifier', 'Mean Accuracy'])\n",
    "# cv_results_df.set_index('Classifier', inplace=True)\n",
    "# print(cv_results_df)\n",
    "\n"
   ]
  },
  {
   "cell_type": "markdown",
   "metadata": {},
   "source": [
    "<a id=\"seven\"></a>\n",
    "## Step 9: Predict Lang ID for the Provided Test Dataset\n",
    "<a class=\"anchor\" id=\"1.1\"></a>\n",
    "<a href=#cont>Back to Table of Contents</a>\n",
    "\n",
    "---\n",
    "    \n",
    "| Description: Model explanation |\n",
    "| :--------------------------- |\n",
    "| Replace 'your_test_dataset.csv' with the actual file path or URL. |\n",
    "\n",
    "---"
   ]
  },
  {
   "cell_type": "markdown",
   "metadata": {},
   "source": []
  },
  {
   "cell_type": "code",
   "execution_count": 41,
   "metadata": {},
   "outputs": [
    {
     "name": "stdout",
     "output_type": "stream",
     "text": [
      "      index lang_id\n",
      "0         1     tsn\n",
      "1         2     nbl\n",
      "2         3     ven\n",
      "3         4     ssw\n",
      "4         5     afr\n",
      "...     ...     ...\n",
      "5677   5678     eng\n",
      "5678   5679     nso\n",
      "5679   5680     sot\n",
      "5680   5681     sot\n",
      "5681   5682     tso\n",
      "\n",
      "[5682 rows x 2 columns]\n"
     ]
    }
   ],
   "source": [
    "# Assuming 'text' is the column containing the text data in the test set\n",
    "X_test_data = test_data['text']\n",
    "\n",
    "# Use the trained Naive Bayes classifier to make predictions\n",
    "naive_bayes_clf = classifiers['Naive Bayes'][0]  # Access the first element of the tuple\n",
    "X_test_transformed = naive_bayes_clf.named_steps['tfidf'].transform(X_test_data)\n",
    "naive_bayes_predictions = naive_bayes_clf.named_steps['clf'].predict(X_test_transformed)\n",
    "\n",
    "# Create a DataFrame for submission\n",
    "submission_df = pd.DataFrame({'index': test_data['index'], 'lang_id': naive_bayes_predictions})\n",
    "\n",
    "# Display the updated submission DataFrame\n",
    "print(submission_df)\n"
   ]
  },
  {
   "cell_type": "code",
   "execution_count": null,
   "metadata": {},
   "outputs": [],
   "source": [
    "\n",
    "#     # Flatten the predictions array if it's 2D\n",
    "#     predictions = predictions.flatten() if len(predictions.shape) > 1 else predictions\n",
    "    \n",
    "#     # Add predictions to the DataFrame\n",
    "#     predictions_df[clf_name] = predictions\n",
    "\n",
    "# # Extract the predictions from the 'Naive Bayes' column\n",
    "# naive_bayes_predictions = predictions_df['Naive Bayes']\n",
    "\n",
    "# # Create a DataFrame for submission\n",
    "# submission_df = pd.DataFrame({'index': test_data['index'], 'lang_id': naive_bayes_predictions})\n",
    "\n",
    "# # Display the updated submission DataFrame\n",
    "# print(submission_df)\n",
    "\n",
    "\n"
   ]
  },
  {
   "cell_type": "markdown",
   "metadata": {},
   "source": [
    "<a id=\"seven\"></a>\n",
    "## Step 10: Prepare the Submission File\n",
    "<a class=\"anchor\" id=\"1.1\"></a>\n",
    "<a href=#cont>Back to Table of Contents</a>\n",
    "\n",
    "---\n",
    "    \n",
    "| Description: Model explanation |\n",
    "| :--------------------------- |\n",
    "| In this final step, we prepare the submission file that aligns with the requirements for the project. |\n",
    "\n",
    "---"
   ]
  },
  {
   "cell_type": "markdown",
   "metadata": {},
   "source": []
  },
  {
   "cell_type": "code",
   "execution_count": null,
   "metadata": {},
   "outputs": [],
   "source": [
    "submission_df.to_csv('Final_prediction_just.csv', index=False)\n"
   ]
  }
 ],
 "metadata": {
  "kernelspec": {
   "display_name": "Python 3 (ipykernel)",
   "language": "python",
   "name": "python3"
  },
  "language_info": {
   "codemirror_mode": {
    "name": "ipython",
    "version": 3
   },
   "file_extension": ".py",
   "mimetype": "text/x-python",
   "name": "python",
   "nbconvert_exporter": "python",
   "pygments_lexer": "ipython3",
   "version": "3.11.3"
  },
  "latex_envs": {
   "LaTeX_envs_menu_present": true,
   "autoclose": false,
   "autocomplete": true,
   "bibliofile": "biblio.bib",
   "cite_by": "apalike",
   "current_citInitial": 1,
   "eqLabelWithNumbers": true,
   "eqNumInitial": 1,
   "hotkeys": {
    "equation": "Ctrl-E",
    "itemize": "Ctrl-I"
   },
   "labels_anchors": false,
   "latex_user_defs": false,
   "report_style_numbering": false,
   "user_envs_cfg": false
  },
  "toc": {
   "base_numbering": 1,
   "nav_menu": {},
   "number_sections": true,
   "sideBar": true,
   "skip_h1_title": false,
   "title_cell": "Table of Contents",
   "title_sidebar": "Contents",
   "toc_cell": false,
   "toc_position": {},
   "toc_section_display": true,
   "toc_window_display": false
  },
  "varInspector": {
   "cols": {
    "lenName": 16,
    "lenType": 16,
    "lenVar": 40
   },
   "kernels_config": {
    "python": {
     "delete_cmd_postfix": "",
     "delete_cmd_prefix": "del ",
     "library": "var_list.py",
     "varRefreshCmd": "print(var_dic_list())"
    },
    "r": {
     "delete_cmd_postfix": ") ",
     "delete_cmd_prefix": "rm(",
     "library": "var_list.r",
     "varRefreshCmd": "cat(var_dic_list()) "
    }
   },
   "types_to_exclude": [
    "module",
    "function",
    "builtin_function_or_method",
    "instance",
    "_Feature"
   ],
   "window_display": false
  }
 },
 "nbformat": 4,
 "nbformat_minor": 5
}
